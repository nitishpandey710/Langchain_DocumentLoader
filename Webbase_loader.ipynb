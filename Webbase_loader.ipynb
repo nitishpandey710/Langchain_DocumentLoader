{
 "cells": [
  {
   "cell_type": "code",
   "execution_count": 1,
   "id": "c8012b2e",
   "metadata": {},
   "outputs": [],
   "source": [
    "## WebBase Loader\n",
    "#WebBaseLoader (in LangChain) is a tool that loads and extracts text from a webpage (URL).\n",
    "\n",
    "#It uses BeautifulSoup to pull visible text from the HTML.\n",
    "#Good for static pages like blogs and news articles.(News article, Blogs etc)\n",
    "#It cannot handle JavaScript-heavy websites (use SeleniumURLLoader for that).\n",
    "#It only loads what's in the HTML, not content loaded later by scripts."
   ]
  },
  {
   "cell_type": "code",
   "execution_count": 20,
   "id": "17a10bec",
   "metadata": {},
   "outputs": [],
   "source": [
    "from langchain_community.document_loaders import WebBaseLoader\n",
    "from langchain_openai import ChatOpenAI\n",
    "from langchain_core.output_parsers import StrOutputParser\n",
    "from langchain_core.prompts import PromptTemplate\n",
    "from dotenv import load_dotenv\n",
    "import os\n"
   ]
  },
  {
   "cell_type": "code",
   "execution_count": 3,
   "id": "7c5a9e10",
   "metadata": {},
   "outputs": [],
   "source": [
    "url=\"https://medium.com/data-science-collective/build-your-own-ai-news-feed-with-python-and-streamlit-185a5f21df0d\""
   ]
  },
  {
   "cell_type": "code",
   "execution_count": 4,
   "id": "9e6da92f",
   "metadata": {},
   "outputs": [],
   "source": [
    "loader=WebBaseLoader(url)"
   ]
  },
  {
   "cell_type": "code",
   "execution_count": 5,
   "id": "6c3a9642",
   "metadata": {},
   "outputs": [
    {
     "data": {
      "text/plain": [
       "<langchain_community.document_loaders.web_base.WebBaseLoader at 0x1f2fef84e90>"
      ]
     },
     "execution_count": 5,
     "metadata": {},
     "output_type": "execute_result"
    }
   ],
   "source": [
    "loader"
   ]
  },
  {
   "cell_type": "code",
   "execution_count": 7,
   "id": "8c915041",
   "metadata": {},
   "outputs": [],
   "source": [
    "docs=loader.load()"
   ]
  },
  {
   "cell_type": "code",
   "execution_count": 8,
   "id": "bab42c9a",
   "metadata": {},
   "outputs": [
    {
     "data": {
      "text/plain": [
       "[Document(metadata={'source': 'https://medium.com/data-science-collective/build-your-own-ai-news-feed-with-python-and-streamlit-185a5f21df0d', 'title': 'Build Your Own Latest AI News Feed with Python and Streamlit | by Buse Şenol | Data Science Collective | Apr, 2025 | Medium', 'description': 'In today’s rapidly evolving artificial intelligence landscape staying up-to-date with the latest developments can be challenging. That’s why I built an AI news aggregator application that curates and…', 'language': 'en'}, page_content='Build Your Own Latest AI News Feed with Python and Streamlit | by Buse Şenol | Data Science Collective | Apr, 2025 | MediumOpen in appSign upSign inWriteSign upSign inMastodonData Science Collective·Advice, insights, and ideas from the Medium data science communityMember-only storyBuild Your Own Latest AI News Feed with Python and StreamlitA complete walkthrough of collecting, processing, and displaying the latest artificial intelligence news using Python in fewer than 100 lines of codeBuse ŞenolFollow7 min read·Apr 18, 2025--5ShareIn today’s rapidly evolving artificial intelligence landscape staying up-to-date with the latest developments can be challenging. That’s why I built an AI news aggregator application that curates and presents the most relevant AI news in one convenient location. In this article I’ll walk you through how I created this application so you can build your own specialized news aggregator for any topic that interests you.If you like this article and want to show some love:Clap 50 times — each one helps more than you think! 👏Follow me here on Medium and subscribe for free to catch my latest posts. 🫶Let’s connect on LinkedIn.Why I Built This?As an AI enthusiast and developer I found myself spending hours each day browsing different websites, forums and social media platforms to stay informed about AI advancements. This time consuming process inspired me to create a centralized platform that automatically collects and organizes AI news saving valuable time for myself and others in the community.Before we start, I am open to all your suggestions to improve this project. If you have different resource or implementation suggestions, you can support them by writing them in the comments.Project OverviewThe Latest AI News application:Aggregates news from multiple sources focused on artificial intelligenceCategorizes content by sourceProvides a clean, user-friendly interface to browse the latest updatesUpdates regularly to ensure content remains current and relevantYou can see a demonstration of the application in action here.Project Structure----5FollowPublished in Data Science Collective836K Followers·Last published\\xa01 day agoAdvice, insights, and ideas from the Medium data science communityFollowFollowWritten by Buse Şenol1.2K Followers·82 FollowingBAU Software Engineering | Data Scientist | The AI Lens Editor | https://www.linkedin.com/in/busesenoll/FollowResponses (5)See all responsesHelpStatusAboutCareersPressBlogPrivacyRulesTermsText to speech\\n\\n\\n\\n\\n\\n\\n\\n\\n\\n\\n\\n\\n\\n\\n\\n\\n\\n\\n\\n\\n\\n\\n\\n\\n\\n\\n\\n\\n\\n\\n\\n\\n\\n\\n\\n')]"
      ]
     },
     "execution_count": 8,
     "metadata": {},
     "output_type": "execute_result"
    }
   ],
   "source": [
    "docs"
   ]
  },
  {
   "cell_type": "code",
   "execution_count": 10,
   "id": "7f07e979",
   "metadata": {},
   "outputs": [
    {
     "name": "stdout",
     "output_type": "stream",
     "text": [
      "Build Your Own Latest AI News Feed with Python and Streamlit | by Buse Şenol | Data Science Collective | Apr, 2025 | MediumOpen in appSign upSign inWriteSign upSign inMastodonData Science Collective·Advice, insights, and ideas from the Medium data science communityMember-only storyBuild Your Own Latest AI News Feed with Python and StreamlitA complete walkthrough of collecting, processing, and displaying the latest artificial intelligence news using Python in fewer than 100 lines of codeBuse ŞenolFollow7 min read·Apr 18, 2025--5ShareIn today’s rapidly evolving artificial intelligence landscape staying up-to-date with the latest developments can be challenging. That’s why I built an AI news aggregator application that curates and presents the most relevant AI news in one convenient location. In this article I’ll walk you through how I created this application so you can build your own specialized news aggregator for any topic that interests you.If you like this article and want to show some love:Clap 50 times — each one helps more than you think! 👏Follow me here on Medium and subscribe for free to catch my latest posts. 🫶Let’s connect on LinkedIn.Why I Built This?As an AI enthusiast and developer I found myself spending hours each day browsing different websites, forums and social media platforms to stay informed about AI advancements. This time consuming process inspired me to create a centralized platform that automatically collects and organizes AI news saving valuable time for myself and others in the community.Before we start, I am open to all your suggestions to improve this project. If you have different resource or implementation suggestions, you can support them by writing them in the comments.Project OverviewThe Latest AI News application:Aggregates news from multiple sources focused on artificial intelligenceCategorizes content by sourceProvides a clean, user-friendly interface to browse the latest updatesUpdates regularly to ensure content remains current and relevantYou can see a demonstration of the application in action here.Project Structure----5FollowPublished in Data Science Collective836K Followers·Last published 1 day agoAdvice, insights, and ideas from the Medium data science communityFollowFollowWritten by Buse Şenol1.2K Followers·82 FollowingBAU Software Engineering | Data Scientist | The AI Lens Editor | https://www.linkedin.com/in/busesenoll/FollowResponses (5)See all responsesHelpStatusAboutCareersPressBlogPrivacyRulesTermsText to speech\n",
      "\n",
      "\n",
      "\n",
      "\n",
      "\n",
      "\n",
      "\n",
      "\n",
      "\n",
      "\n",
      "\n",
      "\n",
      "\n",
      "\n",
      "\n",
      "\n",
      "\n",
      "\n",
      "\n",
      "\n",
      "\n",
      "\n",
      "\n",
      "\n",
      "\n",
      "\n",
      "\n",
      "\n",
      "\n",
      "\n",
      "\n",
      "\n",
      "\n",
      "\n",
      "\n",
      "\n"
     ]
    }
   ],
   "source": [
    "print(docs[0].page_content)"
   ]
  },
  {
   "cell_type": "code",
   "execution_count": 12,
   "id": "12a3b839",
   "metadata": {},
   "outputs": [
    {
     "data": {
      "text/plain": [
       "True"
      ]
     },
     "execution_count": 12,
     "metadata": {},
     "output_type": "execute_result"
    }
   ],
   "source": [
    "load_dotenv()"
   ]
  },
  {
   "cell_type": "code",
   "execution_count": 15,
   "id": "bde30e4a",
   "metadata": {},
   "outputs": [],
   "source": [
    "# Instantiate a ChatOpenAI model with default \n",
    "model=ChatOpenAI()"
   ]
  },
  {
   "cell_type": "code",
   "execution_count": 16,
   "id": "6bcc5681",
   "metadata": {},
   "outputs": [],
   "source": [
    "\n",
    "\n",
    "prompt=PromptTemplate(template=\"Answer the question -\\n {question} from the following text - \\n {text} \",\n",
    "                      input_variables=['question','text'])\n",
    "\n",
    "# Creating a parser that takes the raw LLM output and returns it as a simple string\n",
    "Parser=StrOutputParser()\n",
    "\n"
   ]
  },
  {
   "cell_type": "code",
   "execution_count": 17,
   "id": "7ec90423",
   "metadata": {},
   "outputs": [],
   "source": [
    "url=\"https://medium.com/data-science-collective/build-your-own-ai-news-feed-with-python-and-streamlit-185a5f21df0d\"\n",
    "\n",
    "loader=WebBaseLoader(url)\n",
    "\n",
    "docs=loader.load()\n",
    "\n",
    "chain=prompt | model | Parser\n",
    "\n"
   ]
  },
  {
   "cell_type": "code",
   "execution_count": 19,
   "id": "ac1b8f9e",
   "metadata": {},
   "outputs": [
    {
     "data": {
      "text/plain": [
       "'This blog is about creating a personalized AI news feed using Python and Streamlit. The author provides a walkthrough on how to collect, process, and display the latest artificial intelligence news in a centralized platform. The application aggregates news from multiple sources, categorizes content, and provides a user-friendly interface for browsing updates.'"
      ]
     },
     "execution_count": 19,
     "metadata": {},
     "output_type": "execute_result"
    }
   ],
   "source": [
    "chain.invoke({'question':'what is this blog about','text':docs[0].page_content})"
   ]
  }
 ],
 "metadata": {
  "kernelspec": {
   "display_name": "Python 3",
   "language": "python",
   "name": "python3"
  },
  "language_info": {
   "codemirror_mode": {
    "name": "ipython",
    "version": 3
   },
   "file_extension": ".py",
   "mimetype": "text/x-python",
   "name": "python",
   "nbconvert_exporter": "python",
   "pygments_lexer": "ipython3",
   "version": "3.12.0"
  }
 },
 "nbformat": 4,
 "nbformat_minor": 5
}
