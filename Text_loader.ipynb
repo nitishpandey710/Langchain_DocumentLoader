{
 "cells": [
  {
   "cell_type": "code",
   "execution_count": null,
   "id": "25c48bad",
   "metadata": {},
   "outputs": [],
   "source": [
    "from langchain_community.document_loaders import TextLoader\n",
    "from langchain_openai import ChatOpenAI\n",
    "from langchain_core.output_parsers import StrOutputParser\n",
    "from langchain_core.prompts import PromptTemplate\n",
    "from dotenv import load_dotenv\n",
    "import os"
   ]
  },
  {
   "cell_type": "code",
   "execution_count": 6,
   "id": "7f95bc7d",
   "metadata": {},
   "outputs": [
    {
     "data": {
      "text/plain": [
       "True"
      ]
     },
     "execution_count": 6,
     "metadata": {},
     "output_type": "execute_result"
    }
   ],
   "source": [
    "load_dotenv()"
   ]
  },
  {
   "cell_type": "code",
   "execution_count": null,
   "id": "928edb0b",
   "metadata": {},
   "outputs": [],
   "source": [
    "# Instantiate a ChatOpenAI model with default \n",
    "model=ChatOpenAI()"
   ]
  },
  {
   "cell_type": "code",
   "execution_count": null,
   "id": "d47d9a7a",
   "metadata": {},
   "outputs": [],
   "source": [
    "# Definining a prompt template that asks the model to summarize a piece of text\n",
    "# The placeholder {wiki} will be filled with the actual text to summarize\n",
    "\n",
    "prompt=PromptTemplate(template=\"write a summary of the following text-\\n {wiki}\"\n",
    "                      ,input_variables=['wiki'])"
   ]
  },
  {
   "cell_type": "code",
   "execution_count": null,
   "id": "b0eaee52",
   "metadata": {},
   "outputs": [],
   "source": [
    "# Creating a parser that takes the raw LLM output and returns it as a simple string\n",
    "Parser=StrOutputParser()"
   ]
  },
  {
   "cell_type": "code",
   "execution_count": null,
   "id": "af70d9c6",
   "metadata": {},
   "outputs": [],
   "source": [
    "# Initialize a loader to read text from 'Mike_Tyson.txt' using UTF-8 encoding\n",
    "loader=TextLoader('Mike_Tyson.txt',encoding='utf-8')"
   ]
  },
  {
   "cell_type": "code",
   "execution_count": 11,
   "id": "3315cc6f",
   "metadata": {},
   "outputs": [
    {
     "data": {
      "text/plain": [
       "<langchain_community.document_loaders.text.TextLoader at 0x2333957ab70>"
      ]
     },
     "execution_count": 11,
     "metadata": {},
     "output_type": "execute_result"
    }
   ],
   "source": [
    "loader"
   ]
  },
  {
   "cell_type": "code",
   "execution_count": null,
   "id": "7d20fddf",
   "metadata": {},
   "outputs": [],
   "source": [
    "# Load the file into a list of Document objects\n",
    "docs=loader.load()"
   ]
  },
  {
   "cell_type": "code",
   "execution_count": 13,
   "id": "35606a64",
   "metadata": {},
   "outputs": [
    {
     "data": {
      "text/plain": [
       "[Document(metadata={'source': 'Mike_Tyson.txt'}, page_content='Mike Tyson’s life and career encapsulate one of the most dramatic and compelling arcs in the history of professional boxing. Born on June 30, 1966, in Brooklyn, New York, \\nTyson rose from a troubled childhood to become the youngest heavyweight champion in history, before his meteoric ascent was followed by equally spectacular falls. Over the \\nspan of two decades, Tyson’s unparalleled punching power, aura of invincibility, and personal controversies secured his status as one of sport’s most enigmatic figures.\\nRaised in one of Brooklyn’s toughest neighborhoods, Tyson’s early years were marked by poverty, absentee fatherhood, and frequent brushes with the law. Sent to a juvenile \\ndetention center at age 13, he was introduced to boxing by counselor and former heavyweight contender Bobby Stewart. Under the mentorship of legendary trainer Cus D’Amato,\\n Tyson honed raw talent and ferocious aggression into a world-class fighting style. D’Amato’s unwavering belief in Tyson provided both technical direction—emphasizing the\\n peek-a-boo guard, explosive head movement, and combination punching—and crucial emotional support. When D’Amato died in 1985, Tyson, then just 19, inherited not only his \\n trainer’s mantle but also his fervent expectation of greatness.\\nTyson turned professional in 1985 and quickly overwhelmed every opponent with devastating speed and power. He won his first nineteen fights by knockout, often in the opening \\nround, cultivating the image of an unstoppable force. On November 22, 1986, at age 20, Tyson defeated Trevor Berbick to claim the World Boxing Council (WBC) heavyweight title, \\nbecoming the youngest heavyweight champion ever. Less than a year later, he unified the heavyweight division by adding the World Boxing Association (WBA) and International \\nBoxing Federation (IBF) titles, cementing his dominance.\\nBy the late 1980s, Mike Tyson had transcended sport to become a global cultural icon. His aggressive style—characterized by rapid-fire combinations and an ability to turn \\nopponents’ power against them—redefined public expectations of heavyweight boxers. Tyson’s aura was amplified by his distinctive look—shaved head, tribal face tattoo—and \\nmagnetic personality. Endorsement deals, televised interviews, and appearances in music videos and films followed, elevating him far beyond the ring.\\nHowever, Tyson’s life outside boxing was fraught with turmoil. In 1991, he was convicted of rape and sentenced to six years in prison; he served three, during which his \\nphysical condition and public image deteriorated. After his release in 1995, Tyson reclaimed the WBA and WBC titles briefly, but his second reign lacked the invincibility \\nof his early career. The infamous 1997 rematch against Evander Holyfield ended with Tyson’s disqualification for biting Holyfield’s ear—a moment seared into sporting lore.\\nIn the years that followed, Tyson struggled with financial mismanagement, substance abuse, and further legal troubles. Yet he also demonstrated resilience. He toured with\\n one-man shows recounting his life story, published a candid memoir, and even ventured into acting and podcasting. His public persona evolved from fearsome “Iron Mike” to \\n a more self-aware, at times humorous character, inviting audiences to explore the vulnerabilities behind the legend.\\nToday, Mike Tyson’s legacy is complex: he is remembered both for reshaping heavyweight boxing and for his personal controversies. Statistically, he retired with a record \\nof 50 wins (44 by knockout), 6 losses, and no draws—an achievement unmatched in its combination of ferocity and early success. More broadly, Tyson’s life story—marked by\\n triumph, tragedy, and redemption—offers potent lessons on the interplay between talent, discipline, and the human capacity for reinvention. Whether celebrated as an all-time great in the ring or scrutinized for his off-ring indiscretions, Mike Tyson remains one of the most compelling and unforgettable figures in modern sports history.')]"
      ]
     },
     "execution_count": 13,
     "metadata": {},
     "output_type": "execute_result"
    }
   ],
   "source": [
    "docs"
   ]
  },
  {
   "cell_type": "code",
   "execution_count": null,
   "id": "81864f00",
   "metadata": {},
   "outputs": [
    {
     "name": "stdout",
     "output_type": "stream",
     "text": [
      "<class 'list'>\n"
     ]
    }
   ],
   "source": [
    "#type of the loaded object (usually a list of Document instances).\n",
    "print(type(docs))"
   ]
  },
  {
   "cell_type": "code",
   "execution_count": null,
   "id": "50075cc6",
   "metadata": {},
   "outputs": [
    {
     "name": "stdout",
     "output_type": "stream",
     "text": [
      "Mike Tyson’s life and career encapsulate one of the most dramatic and compelling arcs in the history of professional boxing. Born on June 30, 1966, in Brooklyn, New York, \n",
      "Tyson rose from a troubled childhood to become the youngest heavyweight champion in history, before his meteoric ascent was followed by equally spectacular falls. Over the \n",
      "span of two decades, Tyson’s unparalleled punching power, aura of invincibility, and personal controversies secured his status as one of sport’s most enigmatic figures.\n",
      "Raised in one of Brooklyn’s toughest neighborhoods, Tyson’s early years were marked by poverty, absentee fatherhood, and frequent brushes with the law. Sent to a juvenile \n",
      "detention center at age 13, he was introduced to boxing by counselor and former heavyweight contender Bobby Stewart. Under the mentorship of legendary trainer Cus D’Amato,\n",
      " Tyson honed raw talent and ferocious aggression into a world-class fighting style. D’Amato’s unwavering belief in Tyson provided both technical direction—emphasizing the\n",
      " peek-a-boo guard, explosive head movement, and combination punching—and crucial emotional support. When D’Amato died in 1985, Tyson, then just 19, inherited not only his \n",
      " trainer’s mantle but also his fervent expectation of greatness.\n",
      "Tyson turned professional in 1985 and quickly overwhelmed every opponent with devastating speed and power. He won his first nineteen fights by knockout, often in the opening \n",
      "round, cultivating the image of an unstoppable force. On November 22, 1986, at age 20, Tyson defeated Trevor Berbick to claim the World Boxing Council (WBC) heavyweight title, \n",
      "becoming the youngest heavyweight champion ever. Less than a year later, he unified the heavyweight division by adding the World Boxing Association (WBA) and International \n",
      "Boxing Federation (IBF) titles, cementing his dominance.\n",
      "By the late 1980s, Mike Tyson had transcended sport to become a global cultural icon. His aggressive style—characterized by rapid-fire combinations and an ability to turn \n",
      "opponents’ power against them—redefined public expectations of heavyweight boxers. Tyson’s aura was amplified by his distinctive look—shaved head, tribal face tattoo—and \n",
      "magnetic personality. Endorsement deals, televised interviews, and appearances in music videos and films followed, elevating him far beyond the ring.\n",
      "However, Tyson’s life outside boxing was fraught with turmoil. In 1991, he was convicted of rape and sentenced to six years in prison; he served three, during which his \n",
      "physical condition and public image deteriorated. After his release in 1995, Tyson reclaimed the WBA and WBC titles briefly, but his second reign lacked the invincibility \n",
      "of his early career. The infamous 1997 rematch against Evander Holyfield ended with Tyson’s disqualification for biting Holyfield’s ear—a moment seared into sporting lore.\n",
      "In the years that followed, Tyson struggled with financial mismanagement, substance abuse, and further legal troubles. Yet he also demonstrated resilience. He toured with\n",
      " one-man shows recounting his life story, published a candid memoir, and even ventured into acting and podcasting. His public persona evolved from fearsome “Iron Mike” to \n",
      " a more self-aware, at times humorous character, inviting audiences to explore the vulnerabilities behind the legend.\n",
      "Today, Mike Tyson’s legacy is complex: he is remembered both for reshaping heavyweight boxing and for his personal controversies. Statistically, he retired with a record \n",
      "of 50 wins (44 by knockout), 6 losses, and no draws—an achievement unmatched in its combination of ferocity and early success. More broadly, Tyson’s life story—marked by\n",
      " triumph, tragedy, and redemption—offers potent lessons on the interplay between talent, discipline, and the human capacity for reinvention. Whether celebrated as an all-time great in the ring or scrutinized for his off-ring indiscretions, Mike Tyson remains one of the most compelling and unforgettable figures in modern sports history.\n"
     ]
    }
   ],
   "source": [
    "#text content of the first Document in the list\n",
    "print(docs[0].page_content)"
   ]
  },
  {
   "cell_type": "code",
   "execution_count": null,
   "id": "c61d7be0",
   "metadata": {},
   "outputs": [
    {
     "name": "stdout",
     "output_type": "stream",
     "text": [
      "{'source': 'Mike_Tyson.txt'}\n"
     ]
    }
   ],
   "source": [
    "#metadata for the first Document (ex file path, page number).\n",
    "print(docs[0].metadata)"
   ]
  },
  {
   "cell_type": "code",
   "execution_count": null,
   "id": "587c1882",
   "metadata": {},
   "outputs": [],
   "source": [
    "# Chaining together the prompt template, LLM model, and output parser into a single pipeline.\n",
    "chain=prompt | model | Parser"
   ]
  },
  {
   "cell_type": "code",
   "execution_count": 20,
   "id": "9dc862fd",
   "metadata": {},
   "outputs": [
    {
     "data": {
      "text/plain": [
       "PromptTemplate(input_variables=['wiki'], input_types={}, partial_variables={}, template='write a summary of the following text-\\n {wiki}')\n",
       "| ChatOpenAI(client=<openai.resources.chat.completions.completions.Completions object at 0x00000233396A56A0>, async_client=<openai.resources.chat.completions.completions.AsyncCompletions object at 0x0000023339579F70>, root_client=<openai.OpenAI object at 0x000002333950DBB0>, root_async_client=<openai.AsyncOpenAI object at 0x0000023339681370>, model_kwargs={}, openai_api_key=SecretStr('**********'))\n",
       "| StrOutputParser()"
      ]
     },
     "execution_count": 20,
     "metadata": {},
     "output_type": "execute_result"
    }
   ],
   "source": [
    "chain"
   ]
  },
  {
   "cell_type": "code",
   "execution_count": 22,
   "id": "68ecfe3c",
   "metadata": {},
   "outputs": [
    {
     "name": "stdout",
     "output_type": "stream",
     "text": [
      "Mike Tyson's life and career in professional boxing is one of great triumphs and devastating falls. Rising from a troubled childhood in Brooklyn to become the youngest heavyweight champion in history, Tyson's unrivaled punching power and personal controversies made him a global cultural icon. Despite his early success, Tyson's life outside the ring was marked by legal troubles, financial mismanagement, and substance abuse. However, he demonstrated resilience through one-man shows, memoirs, and ventures into acting and podcasting. Tyson's legacy remains complex, with his achievements in the ring and personal controversies shaping his image as one of the most enigmatic figures in sports history.\n"
     ]
    }
   ],
   "source": [
    "# Run the chain by passing the first document's text under the 'wiki' key,\n",
    "# then print the resulting summary returned by the model.\n",
    "\n",
    "print(chain.invoke({'wiki':docs[0].page_content}))"
   ]
  }
 ],
 "metadata": {
  "kernelspec": {
   "display_name": "Python 3",
   "language": "python",
   "name": "python3"
  },
  "language_info": {
   "codemirror_mode": {
    "name": "ipython",
    "version": 3
   },
   "file_extension": ".py",
   "mimetype": "text/x-python",
   "name": "python",
   "nbconvert_exporter": "python",
   "pygments_lexer": "ipython3",
   "version": "3.12.0"
  }
 },
 "nbformat": 4,
 "nbformat_minor": 5
}
